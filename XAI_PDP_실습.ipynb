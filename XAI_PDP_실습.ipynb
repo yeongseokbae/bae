{
 "cells": [
  {
   "cell_type": "markdown",
   "metadata": {},
   "source": [
    "# 프로젝트명: XAI(eXplanable AI) 실습 1 (Partial Dependence Plot - PDP)\n",
    "\n",
    "#### 시각화 vs XAI의 차이\n",
    "\n",
    "- XAI는 모델이 `왜 이런 결과를 선택했는지 해석`할 수 있게 해주므로, 일반적인 시각화랑은 다릅니다.\n",
    "\n",
    "#### 🚨 주의사항\n",
    "- XAI 기법은 모델의 예측값을 설명하기 위한 것이므로, 현상 자체를 설명하는 것이 아닙니다. (물리법칙, 타 도메인 법칙들)\n",
    "- 원인과 결과를 나타내는 인과추론이 아니라, 상관관계에 가깝기 때문에 인과추론을 위해선 해당 도메인 지식이 반드시 필요합니다.\n",
    "\n",
    "### 1. 일반적인 모델 결과 해석방법 (XGBoost)\n",
    "\n",
    "#### 실습 데이터 : 피마 인디언 당뇨병 분류 모델\n",
    "\n",
    "- [X] Pregnancies: 임신 횟수\n",
    "- [X] Glucose: 포도당 부하 검사 수치\n",
    "- [X] BloodPressure: 혈압(mm Hg)\n",
    "- [X] SkinThickness: 팔 삼두근 뒤쪽의 피하지방 측정값(mm)\n",
    "- [X] Insulin: 혈청 인슐린(mu U/ml)\n",
    "- [X] BMI: 체질량지수(체중(kg)/키(m))^2\n",
    "- [X] DiabetesPedigreeFunction: 당뇨 내력 가중치 값\n",
    "- [X] Age: 나이\n",
    "- [Y] Outcome: 클래스 결정 값(0 또는 1)"
   ]
  },
  {
   "cell_type": "code",
   "execution_count": 1,
   "metadata": {},
   "outputs": [],
   "source": [
    "import ssl\n",
    "ssl._create_default_https_context = ssl._create_unverified_context\n",
    "\n",
    "from sklearn.metrics import accuracy_score\n",
    "from sklearn.model_selection import train_test_split\n",
    "from xgboost import XGBClassifier\n",
    "import pandas as pd\n",
    "\n",
    "# 피마 당뇨병 데이터 세트 불러오기\n",
    "dataset = pd.read_csv('https://blog.kakaocdn.net/dn/cRNQNq/btsHmTFs2EK/SZCyIMQC5M83BJ9cIPJB4K/diabetes.csv?attach=1&knm=tfile.csv')\n"
   ]
  },
  {
   "cell_type": "code",
   "execution_count": null,
   "metadata": {},
   "outputs": [],
   "source": [
    "3"
   ]
  }
 ],
 "metadata": {
  "kernelspec": {
   "display_name": "Python 3",
   "language": "python",
   "name": "python3"
  },
  "language_info": {
   "codemirror_mode": {
    "name": "ipython",
    "version": 3
   },
   "file_extension": ".py",
   "mimetype": "text/x-python",
   "name": "python",
   "nbconvert_exporter": "python",
   "pygments_lexer": "ipython3",
   "version": "3.9.6"
  }
 },
 "nbformat": 4,
 "nbformat_minor": 2
}
