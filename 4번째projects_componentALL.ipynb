{
 "cells": [
  {
   "cell_type": "code",
   "execution_count": 9,
   "metadata": {},
   "outputs": [
    {
     "name": "stdout",
     "output_type": "stream",
     "text": [
      "Requirement already satisfied: matplotlib in c:\\users\\user\\appdata\\local\\programs\\python\\python39\\lib\\site-packages (3.7.1)\n",
      "Requirement already satisfied: seaborn in c:\\users\\user\\appdata\\local\\programs\\python\\python39\\lib\\site-packages (0.13.2)\n",
      "Requirement already satisfied: pandas in c:\\users\\user\\appdata\\local\\programs\\python\\python39\\lib\\site-packages (1.5.2)\n",
      "Requirement already satisfied: fonttools>=4.22.0 in c:\\users\\user\\appdata\\local\\programs\\python\\python39\\lib\\site-packages (from matplotlib) (4.51.0)\n",
      "Requirement already satisfied: pyparsing>=2.3.1 in c:\\users\\user\\appdata\\local\\programs\\python\\python39\\lib\\site-packages (from matplotlib) (3.1.2)\n",
      "Requirement already satisfied: packaging>=20.0 in c:\\users\\user\\appdata\\local\\programs\\python\\python39\\lib\\site-packages (from matplotlib) (24.0)\n",
      "Requirement already satisfied: contourpy>=1.0.1 in c:\\users\\user\\appdata\\local\\programs\\python\\python39\\lib\\site-packages (from matplotlib) (1.2.1)\n",
      "Requirement already satisfied: python-dateutil>=2.7 in c:\\users\\user\\appdata\\local\\programs\\python\\python39\\lib\\site-packages (from matplotlib) (2.9.0.post0)\n",
      "Requirement already satisfied: kiwisolver>=1.0.1 in c:\\users\\user\\appdata\\local\\programs\\python\\python39\\lib\\site-packages (from matplotlib) (1.4.5)\n",
      "Requirement already satisfied: pillow>=6.2.0 in c:\\users\\user\\appdata\\local\\programs\\python\\python39\\lib\\site-packages (from matplotlib) (10.3.0)\n",
      "Requirement already satisfied: importlib-resources>=3.2.0 in c:\\users\\user\\appdata\\local\\programs\\python\\python39\\lib\\site-packages (from matplotlib) (6.4.0)\n",
      "Requirement already satisfied: cycler>=0.10 in c:\\users\\user\\appdata\\local\\programs\\python\\python39\\lib\\site-packages (from matplotlib) (0.12.1)\n",
      "Requirement already satisfied: numpy>=1.20 in c:\\users\\user\\appdata\\local\\programs\\python\\python39\\lib\\site-packages (from matplotlib) (1.23.5)\n",
      "Requirement already satisfied: zipp>=3.1.0 in c:\\users\\user\\appdata\\local\\programs\\python\\python39\\lib\\site-packages (from importlib-resources>=3.2.0->matplotlib) (3.18.1)\n",
      "Requirement already satisfied: six>=1.5 in c:\\users\\user\\appdata\\local\\programs\\python\\python39\\lib\\site-packages (from python-dateutil>=2.7->matplotlib) (1.16.0)\n",
      "Requirement already satisfied: pytz>=2020.1 in c:\\users\\user\\appdata\\local\\programs\\python\\python39\\lib\\site-packages (from pandas) (2024.1)\n"
     ]
    },
    {
     "name": "stderr",
     "output_type": "stream",
     "text": [
      "WARNING: You are using pip version 21.1.3; however, version 24.0 is available.\n",
      "You should consider upgrading via the 'c:\\users\\user\\appdata\\local\\programs\\python\\python39\\python.exe -m pip install --upgrade pip' command.\n"
     ]
    },
    {
     "name": "stdout",
     "output_type": "stream",
     "text": [
      "Requirement already satisfied: xgboost in c:\\users\\user\\appdata\\local\\programs\\python\\python39\\lib\\site-packages (1.7.1)\n",
      "Requirement already satisfied: scipy in c:\\users\\user\\appdata\\local\\programs\\python\\python39\\lib\\site-packages (from xgboost) (1.10.1)\n",
      "Requirement already satisfied: numpy in c:\\users\\user\\appdata\\local\\programs\\python\\python39\\lib\\site-packages (from xgboost) (1.23.5)\n"
     ]
    },
    {
     "name": "stderr",
     "output_type": "stream",
     "text": [
      "WARNING: You are using pip version 21.1.3; however, version 24.0 is available.\n",
      "You should consider upgrading via the 'c:\\users\\user\\appdata\\local\\programs\\python\\python39\\python.exe -m pip install --upgrade pip' command.\n"
     ]
    },
    {
     "name": "stdout",
     "output_type": "stream",
     "text": [
      "Collecting catboost\n",
      "  Using cached catboost-1.2.5-cp39-cp39-win_amd64.whl (101.2 MB)\n",
      "Requirement already satisfied: plotly in c:\\users\\user\\appdata\\local\\programs\\python\\python39\\lib\\site-packages (from catboost) (5.22.0)\n",
      "Requirement already satisfied: pandas>=0.24 in c:\\users\\user\\appdata\\local\\programs\\python\\python39\\lib\\site-packages (from catboost) (1.5.2)\n",
      "Requirement already satisfied: scipy in c:\\users\\user\\appdata\\local\\programs\\python\\python39\\lib\\site-packages (from catboost) (1.10.1)\n",
      "Requirement already satisfied: six in c:\\users\\user\\appdata\\local\\programs\\python\\python39\\lib\\site-packages (from catboost) (1.16.0)\n",
      "Requirement already satisfied: graphviz in c:\\users\\user\\appdata\\local\\programs\\python\\python39\\lib\\site-packages (from catboost) (0.20.3)\n",
      "Requirement already satisfied: numpy>=1.16.0 in c:\\users\\user\\appdata\\local\\programs\\python\\python39\\lib\\site-packages (from catboost) (1.23.5)\n",
      "Requirement already satisfied: matplotlib in c:\\users\\user\\appdata\\local\\programs\\python\\python39\\lib\\site-packages (from catboost) (3.7.1)\n",
      "Requirement already satisfied: python-dateutil>=2.8.1 in c:\\users\\user\\appdata\\local\\programs\\python\\python39\\lib\\site-packages (from pandas>=0.24->catboost) (2.9.0.post0)\n",
      "Requirement already satisfied: pytz>=2020.1 in c:\\users\\user\\appdata\\local\\programs\\python\\python39\\lib\\site-packages (from pandas>=0.24->catboost) (2024.1)\n",
      "Requirement already satisfied: kiwisolver>=1.0.1 in c:\\users\\user\\appdata\\local\\programs\\python\\python39\\lib\\site-packages (from matplotlib->catboost) (1.4.5)\n",
      "Requirement already satisfied: packaging>=20.0 in c:\\users\\user\\appdata\\local\\programs\\python\\python39\\lib\\site-packages (from matplotlib->catboost) (24.0)\n",
      "Requirement already satisfied: cycler>=0.10 in c:\\users\\user\\appdata\\local\\programs\\python\\python39\\lib\\site-packages (from matplotlib->catboost) (0.12.1)\n",
      "Requirement already satisfied: fonttools>=4.22.0 in c:\\users\\user\\appdata\\local\\programs\\python\\python39\\lib\\site-packages (from matplotlib->catboost) (4.51.0)\n",
      "Requirement already satisfied: pyparsing>=2.3.1 in c:\\users\\user\\appdata\\local\\programs\\python\\python39\\lib\\site-packages (from matplotlib->catboost) (3.1.2)\n",
      "Requirement already satisfied: importlib-resources>=3.2.0 in c:\\users\\user\\appdata\\local\\programs\\python\\python39\\lib\\site-packages (from matplotlib->catboost) (6.4.0)\n",
      "Requirement already satisfied: pillow>=6.2.0 in c:\\users\\user\\appdata\\local\\programs\\python\\python39\\lib\\site-packages (from matplotlib->catboost) (10.3.0)\n",
      "Requirement already satisfied: contourpy>=1.0.1 in c:\\users\\user\\appdata\\local\\programs\\python\\python39\\lib\\site-packages (from matplotlib->catboost) (1.2.1)\n",
      "Requirement already satisfied: zipp>=3.1.0 in c:\\users\\user\\appdata\\local\\programs\\python\\python39\\lib\\site-packages (from importlib-resources>=3.2.0->matplotlib->catboost) (3.18.1)\n",
      "Requirement already satisfied: tenacity>=6.2.0 in c:\\users\\user\\appdata\\local\\programs\\python\\python39\\lib\\site-packages (from plotly->catboost) (8.3.0)\n",
      "Installing collected packages: catboost\n",
      "Successfully installed catboost-1.2.5\n"
     ]
    },
    {
     "name": "stderr",
     "output_type": "stream",
     "text": [
      "WARNING: You are using pip version 21.1.3; however, version 24.0 is available.\n",
      "You should consider upgrading via the 'c:\\users\\user\\appdata\\local\\programs\\python\\python39\\python.exe -m pip install --upgrade pip' command.\n"
     ]
    }
   ],
   "source": [
    "!pip install matplotlib seaborn pandas\n",
    "!pip install xgboost\n",
    "!pip install catboost"
   ]
  },
  {
   "cell_type": "code",
   "execution_count": 36,
   "metadata": {},
   "outputs": [],
   "source": [
    "import matplotlib.pyplot as plt\n",
    "import seaborn as sns\n",
    "import pandas as pd\n",
    "import numpy as np\n",
    "\n",
    "from imblearn.over_sampling import SMOTE\n",
    "from sklearn.ensemble import RandomForestClassifier\n",
    "from sklearn.metrics import classification_report, confusion_matrix, accuracy_score, f1_score\n",
    "from sklearn.model_selection import train_test_split, GridSearchCV\n",
    "from sklearn.linear_model import LogisticRegression\n",
    "from sklearn.linear_model import LinearRegression\n",
    "from xgboost import XGBClassifier\n",
    "from sklearn.ensemble import VotingClassifier\n",
    "from lightgbm import LGBMClassifier\n",
    "from catboost import CatBoostClassifier\n",
    "from sklearn.ensemble import StackingClassifier\n",
    "from sklearn.preprocessing import RobustScaler\n",
    "from sklearn.svm import SVC\n",
    "from sklearn.metrics import f1_score"
   ]
  },
  {
   "cell_type": "code",
   "execution_count": 63,
   "metadata": {},
   "outputs": [
    {
     "name": "stdout",
     "output_type": "stream",
     "text": [
      "   ANONYMOUS_1  ANONYMOUS_2  AG   AL    B  BA  BE    CA   CD  CO  ...  SB  \\\n",
      "0         1486          200   0    3   93   0   0  3059  0.0   0  ...   0   \n",
      "1         1350          375   0    2   19   0   0  2978  0.0   0  ...   0   \n",
      "2         2415          200   0  110    1   1   0    17  0.0   0  ...   0   \n",
      "3         7389          200   0    8    3   0   0  1960  0.0   0  ...   2   \n",
      "4         3954          200   0    1  157   0   0    71  0.0   0  ...   0   \n",
      "\n",
      "    SI  SN  TI  U20  V  V100    V40   ZN  Y_LABEL  \n",
      "0  427   2   5  NaN  0   NaN  154.0   75        0  \n",
      "1    0   0   0  4.0  0   NaN   44.0  652        0  \n",
      "2    0   1   0  3.0  0   NaN   72.6  412        1  \n",
      "3    1   1   0  NaN  0   NaN  133.3    7        0  \n",
      "4    2   0   0  NaN  0   NaN  133.1  128        0  \n",
      "\n",
      "[5 rows x 35 columns]\n",
      "<class 'pandas.core.frame.DataFrame'>\n",
      "RangeIndex: 14095 entries, 0 to 14094\n",
      "Data columns (total 35 columns):\n",
      " #   Column       Non-Null Count  Dtype  \n",
      "---  ------       --------------  -----  \n",
      " 0   ANONYMOUS_1  14095 non-null  int64  \n",
      " 1   ANONYMOUS_2  14095 non-null  int64  \n",
      " 2   AG           14095 non-null  int64  \n",
      " 3   AL           14095 non-null  int64  \n",
      " 4   B            14095 non-null  int64  \n",
      " 5   BA           14095 non-null  int64  \n",
      " 6   BE           14095 non-null  int64  \n",
      " 7   CA           14095 non-null  int64  \n",
      " 8   CD           14095 non-null  float64\n",
      " 9   CO           14095 non-null  int64  \n",
      " 10  CR           14095 non-null  int64  \n",
      " 11  CU           14095 non-null  int64  \n",
      " 12  FE           14095 non-null  int64  \n",
      " 13  H2O          14095 non-null  float64\n",
      " 14  K            11796 non-null  float64\n",
      " 15  LI           14095 non-null  int64  \n",
      " 16  MG           14095 non-null  int64  \n",
      " 17  MN           14095 non-null  int64  \n",
      " 18  MO           14095 non-null  int64  \n",
      " 19  NA           14095 non-null  int64  \n",
      " 20  NI           14095 non-null  int64  \n",
      " 21  P            14095 non-null  int64  \n",
      " 22  PB           14095 non-null  int64  \n",
      " 23  PQINDEX      14095 non-null  int64  \n",
      " 24  S            14095 non-null  int64  \n",
      " 25  SB           14095 non-null  int64  \n",
      " 26  SI           14095 non-null  int64  \n",
      " 27  SN           14095 non-null  int64  \n",
      " 28  TI           14095 non-null  int64  \n",
      " 29  U20          2316 non-null   float64\n",
      " 30  V            14095 non-null  int64  \n",
      " 31  V100         3724 non-null   float64\n",
      " 32  V40          14095 non-null  float64\n",
      " 33  ZN           14095 non-null  int64  \n",
      " 34  Y_LABEL      14095 non-null  int64  \n",
      "dtypes: float64(6), int64(29)\n",
      "memory usage: 3.8 MB\n",
      "None\n"
     ]
    }
   ],
   "source": [
    "# 데이터 불러오기\n",
    "df = load_data(file_path)\n",
    "\n",
    "# CD 열의 결측치를 0으로 대치하는 함수 정의\n",
    "def fill_missing_cd_with_zero(df):\n",
    "    \"\"\"\n",
    "    CD 열의 결측치를 0으로 대치하는 함수\n",
    "\n",
    "    Parameters:\n",
    "    - df (pd.DataFrame): 데이터프레임\n",
    "\n",
    "    Returns:\n",
    "    - df (pd.DataFrame): 결측치가 대치된 데이터프레임\n",
    "    \"\"\"\n",
    "    df['CD'] = df['CD'].fillna(0)\n",
    "    return df\n",
    "\n",
    "# 제거할 열 목록\n",
    "columns_to_drop = ['ID','YEAR', 'SAMPLE_TRANSFER_DAY', 'COMPONENT_ARBITRARY', 'U100', 'U75', 'U50', 'U25', 'U14', 'U6', 'U4','FH2O','FNOX','FOPTIMETHGLY','FOXID','FSO4','FTBN','FUEL','SOOTPERCENTAGE']\n",
    "\n",
    "# 열 제거\n",
    "df = df.drop(columns=columns_to_drop)\n",
    "\n",
    "# CD 열의 결측치를 0으로 대치\n",
    "df = fill_missing_cd_with_zero(df)\n",
    "\n",
    "# 결과 출력\n",
    "print(df.head())\n",
    "print(df.info())"
   ]
  },
  {
   "cell_type": "code",
   "execution_count": 64,
   "metadata": {},
   "outputs": [
    {
     "name": "stdout",
     "output_type": "stream",
     "text": [
      "0\n"
     ]
    },
    {
     "name": "stderr",
     "output_type": "stream",
     "text": [
      "C:\\Users\\USER\\AppData\\Local\\Temp\\ipykernel_21280\\2603757911.py:17: SettingWithCopyWarning: \n",
      "A value is trying to be set on a copy of a slice from a DataFrame.\n",
      "Try using .loc[row_indexer,col_indexer] = value instead\n",
      "\n",
      "See the caveats in the documentation: https://pandas.pydata.org/pandas-docs/stable/user_guide/indexing.html#returning-a-view-versus-a-copy\n",
      "  k_missing['K'] = model.predict(X_missing)\n"
     ]
    }
   ],
   "source": [
    "# K 변수의 결측치를 가지는 행만 선택\n",
    "k_missing = df[df['K'].isnull()]\n",
    "\n",
    "# 결측치를 가지지 않는 K 변수와 관련 변수들 선택\n",
    "k_not_missing = df.dropna(subset=['K'])\n",
    "\n",
    "# 피처와 타겟 변수 설정\n",
    "X = k_not_missing[['NA', 'SI']]\n",
    "y = k_not_missing['K']\n",
    "\n",
    "# 모델 학습\n",
    "model = LinearRegression()\n",
    "model.fit(X, y)\n",
    "\n",
    "# 결측치를 가지는 데이터에 대한 예측\n",
    "X_missing = k_missing[['NA', 'SI']]\n",
    "k_missing['K'] = model.predict(X_missing)\n",
    "\n",
    "# 결측치를 포함한 데이터프레임을 업데이트\n",
    "df.update(k_missing)\n",
    "\n",
    "print(df['K'].isnull().sum())  # 결측치 확인"
   ]
  },
  {
   "cell_type": "code",
   "execution_count": 66,
   "metadata": {},
   "outputs": [],
   "source": [
    "X = df.drop(columns=['Y_LABEL'])\n",
    "y = df['Y_LABEL']\n",
    "\n",
    "# Robust Scaler 적용\n",
    "scaler = RobustScaler()\n",
    "X_scaled = scaler.fit_transform(X)\n"
   ]
  },
  {
   "cell_type": "code",
   "execution_count": 67,
   "metadata": {},
   "outputs": [],
   "source": [
    "# 테스트 데이터 분할\n",
    "X_tr, X_val, y_tr, y_val = train_test_split(X, y, test_size=0.1, random_state=42)"
   ]
  },
  {
   "cell_type": "code",
   "execution_count": 68,
   "metadata": {},
   "outputs": [],
   "source": [
    "# catboost\n",
    "# CatBoost 분류 모델 생성 및 훈련\n",
    "cat = CatBoostClassifier(iterations=100, learning_rate=0.1, depth=6, verbose=0)\n",
    "cat.fit(X_tr, y_tr)\n",
    "# 하이퍼파라미터 그리드 정의\n",
    "param_grid = {\n",
    "    'iterations': [100, 200, 500],\n",
    "    'depth': [4, 6, 10],\n",
    "    'learning_rate': [0.01, 0.1, 0.2],\n",
    "    'l2_leaf_reg': [1, 3, 5],\n",
    "    'border_count': [32, 50, 100]\n",
    "}\n",
    "\n"
   ]
  },
  {
   "cell_type": "code",
   "execution_count": 69,
   "metadata": {},
   "outputs": [
    {
     "name": "stdout",
     "output_type": "stream",
     "text": [
      "Fitting 3 folds for each of 243 candidates, totalling 729 fits\n",
      "Best Hyperparameters: {'border_count': 32, 'depth': 4, 'iterations': 100, 'l2_leaf_reg': 3, 'learning_rate': 0.2}\n"
     ]
    }
   ],
   "source": [
    "# GridSearchCV 초기화\n",
    "grid_search = GridSearchCV(estimator=cat, param_grid=param_grid, cv=3, scoring='f1', verbose=1, n_jobs=-1)\n",
    "\n",
    "# GridSearchCV를 사용한 모델 훈련\n",
    "grid_search.fit(X_tr, y_tr)\n",
    "# 최적의 하이퍼파라미터 출력\n",
    "print(\"Best Hyperparameters:\", grid_search.best_params_)\n",
    "\n"
   ]
  },
  {
   "cell_type": "code",
   "execution_count": 70,
   "metadata": {},
   "outputs": [
    {
     "name": "stdout",
     "output_type": "stream",
     "text": [
      "F1 Score: 0.83\n"
     ]
    }
   ],
   "source": [
    "# 최적의 하이퍼파라미터로 모델 생성\n",
    "best_cat = grid_search.best_estimator_\n",
    "\n",
    "# 테스트 세트에 대해 예측\n",
    "y_pred = best_cat.predict(X_val)\n",
    "\n",
    "# F1 스코어 계산\n",
    "f1 = f1_score(y_val, y_pred, average='macro')\n",
    "print(\"F1 Score: {:.2f}\".format(f1))"
   ]
  },
  {
   "cell_type": "markdown",
   "metadata": {},
   "source": [
    "코드 통합본"
   ]
  },
  {
   "cell_type": "code",
   "execution_count": 11,
   "metadata": {},
   "outputs": [
    {
     "name": "stderr",
     "output_type": "stream",
     "text": [
      "C:\\Users\\USER\\AppData\\Local\\Temp\\ipykernel_4228\\57203193.py:37: SettingWithCopyWarning: \n",
      "A value is trying to be set on a copy of a slice from a DataFrame.\n",
      "Try using .loc[row_indexer,col_indexer] = value instead\n",
      "\n",
      "See the caveats in the documentation: https://pandas.pydata.org/pandas-docs/stable/user_guide/indexing.html#returning-a-view-versus-a-copy\n",
      "  k_missing['K'] = model.predict(X_missing)\n"
     ]
    },
    {
     "name": "stdout",
     "output_type": "stream",
     "text": [
      "Fitting 3 folds for each of 243 candidates, totalling 729 fits\n",
      "Best Hyperparameters: {'border_count': 32, 'depth': 4, 'iterations': 100, 'l2_leaf_reg': 3, 'learning_rate': 0.2}\n",
      "F1 Score: 0.83\n"
     ]
    }
   ],
   "source": [
    "from sklearn.model_selection import train_test_split, GridSearchCV\n",
    "import pandas as pd\n",
    "import numpy as np\n",
    "from sklearn.preprocessing import RobustScaler\n",
    "from sklearn.linear_model import LinearRegression\n",
    "from sklearn.metrics import f1_score\n",
    "from catboost import CatBoostClassifier\n",
    "\n",
    "# 데이터 로드\n",
    "df = pd.read_csv('C:\\\\Users\\\\USER\\\\projects\\\\bae\\\\실습자료\\\\train(component4).csv')\n",
    "\n",
    "# 제거할 열 목록\n",
    "columns_to_drop = ['ID','YEAR', 'SAMPLE_TRANSFER_DAY', 'COMPONENT_ARBITRARY', 'U100', 'U75', 'U50', 'U25', 'U14', 'U6', 'U4','FH2O','FNOX','FOPTIMETHGLY','FOXID','FSO4','FTBN','FUEL','SOOTPERCENTAGE']\n",
    "\n",
    "# 열 제거\n",
    "df = df.drop(columns=columns_to_drop)\n",
    "\n",
    "# CD 열의 결측치를 0으로 대치\n",
    "df['CD'] =df['CD'].fillna(df['CD'].mode()[0])\n",
    "\n",
    "# K 변수의 결측치를 가지는 행만 선택\n",
    "k_missing = df[df['K'].isnull()]\n",
    "\n",
    "# 결측치를 가지지 않는 K 변수와 관련 변수들 선택\n",
    "k_not_missing = df.dropna(subset=['K'])\n",
    "\n",
    "# 피처와 타겟 변수 설정\n",
    "X = k_not_missing[['NA', 'SI']]\n",
    "y = k_not_missing['K']\n",
    "\n",
    "# 모델 학습\n",
    "model = LinearRegression()\n",
    "model.fit(X, y)\n",
    "\n",
    "# 결측치를 가지는 데이터에 대한 예측\n",
    "X_missing = k_missing[['NA', 'SI']]\n",
    "k_missing['K'] = model.predict(X_missing)\n",
    "\n",
    "# 결측치를 포함한 데이터프레임을 업데이트\n",
    "df.update(k_missing)\n",
    "\n",
    "X = df.drop(columns=['Y_LABEL'])\n",
    "y = df['Y_LABEL']\n",
    "\n",
    "# Robust Scaler 적용\n",
    "scaler = RobustScaler()\n",
    "X_scaled = scaler.fit_transform(X)\n",
    "\n",
    "# 테스트 데이터 분할\n",
    "X_tr, X_val, y_tr, y_val = train_test_split(X, y, test_size=0.1, random_state=42)\n",
    "\n",
    "# catboost\n",
    "# CatBoost 분류 모델 생성 및 훈련\n",
    "cat = CatBoostClassifier(iterations=100, learning_rate=0.1, depth=6, verbose=0)\n",
    "cat.fit(X_tr, y_tr)\n",
    "# 하이퍼파라미터 그리드 정의\n",
    "param_grid = {\n",
    "    'iterations': [100, 200, 500],\n",
    "    'depth': [4, 6, 10],\n",
    "    'learning_rate': [0.01, 0.1, 0.2],\n",
    "    'l2_leaf_reg': [1, 3, 5],\n",
    "    'border_count': [32, 50, 100]\n",
    "}\n",
    "\n",
    "# GridSearchCV 초기화\n",
    "grid_search = GridSearchCV(estimator=cat, param_grid=param_grid, cv=3, scoring='f1', verbose=1, n_jobs=-1)\n",
    "\n",
    "# GridSearchCV를 사용한 모델 훈련\n",
    "grid_search.fit(X_tr, y_tr)\n",
    "# 최적의 하이퍼파라미터 출력\n",
    "print(\"Best Hyperparameters:\", grid_search.best_params_)\n",
    "\n",
    "# 최적의 하이퍼파라미터로 모델 생성\n",
    "best_cat = grid_search.best_estimator_\n",
    "\n",
    "# 테스트 세트에 대해 예측\n",
    "y_pred = best_cat.predict(X_val)\n",
    "\n",
    "# F1 스코어 계산\n",
    "f1 = f1_score(y_val, y_pred, average='macro')\n",
    "print(\"F1 Score: {:.2f}\".format(f1))"
   ]
  }
 ],
 "metadata": {
  "kernelspec": {
   "display_name": "venv",
   "language": "python",
   "name": "python3"
  },
  "language_info": {
   "codemirror_mode": {
    "name": "ipython",
    "version": 3
   },
   "file_extension": ".py",
   "mimetype": "text/x-python",
   "name": "python",
   "nbconvert_exporter": "python",
   "pygments_lexer": "ipython3",
   "version": "3.9.6"
  }
 },
 "nbformat": 4,
 "nbformat_minor": 2
}
